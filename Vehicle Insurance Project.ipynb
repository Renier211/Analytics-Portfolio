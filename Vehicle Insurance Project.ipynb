{
 "cells": [
  {
   "cell_type": "markdown",
   "id": "46b3341b-e86d-4404-a5d9-019710c1d401",
   "metadata": {},
   "source": [
    "# Introduction"
   ]
  },
  {
   "cell_type": "markdown",
   "id": "2c57d2f2-c7e5-426f-8737-d5848d07e6e3",
   "metadata": {},
   "source": [
    "The dataset at the center of this project is a comprehensive insurance dataset containing records of various policyholders and their respective insurance details. Each row in the dataset represents an individual policyholder, identified by a unique POLICYHOLDER_ID. The dataset captures various attributes related to the policyholder and their insurance policies, such as:\n",
    "\n",
    "SEX: The gender of the policyholder.\n",
    "INSR_BEGIN: The start date of the insurance policy.\n",
    "INSR_END: The end date of the insurance policy.\n",
    "INSR_TYPE: The type of insurance policy.\n",
    "INSURED_VALUE: The value of the insured asset.\n",
    "PREMIUM: The premium amount paid by the policyholder.\n",
    "PROD_YEAR: The year the product was manufactured or started.\n",
    "TYPE_VEHICLE: The type of vehicle insured.\n",
    "MAKE: The make of the vehicle.\n",
    "CLAIM_PAID: The amount paid out in claims.\n",
    "The primary variable of interest in this dataset is the PREMIUM, which represents the amount paid by the policyholder for their insurance coverage. By performing Exploratory Data Analysis (EDA) on this dataset, I aim to uncover patterns, trends, and insights that can provide a deeper understanding of the factors influencing premium amounts, as well as other significant relationships within the data.\n",
    "\n",
    "The EDA process will include data cleaning, visualization, and statistical analysis to identify any anomalies, correlations, and underlying structures in the data. This analysis will serve as a foundation for building predictive models and making data-driven decisions in the context of insurance policies and premium calculations."
   ]
  },
  {
   "cell_type": "markdown",
   "id": "4d959d89-d540-4917-b58f-04b529ba32c0",
   "metadata": {},
   "source": [
    "# Notes:"
   ]
  },
  {
   "cell_type": "markdown",
   "id": "b5d85bf7-4925-4c08-aa80-400e654c083b",
   "metadata": {},
   "source": [
    "1) Sex variable has 3 factors (0,1,2) which relate to \"Male\", \"Female\", \"Unknown\"\n",
    "2) INSR_TYPE variable has 3 factors (1201,1202,1204) which relate to \"Comprehensive\", \"Third Party with Fire and Theft\", \"Third Party Only\"\n",
    "3) Where there was missing data pertaining to a policyholder, all data surrounding that policyholder was removed, as the purpose is to at a later stage compile a summary for each policyholder"
   ]
  },
  {
   "cell_type": "markdown",
   "id": "1183e51d-ee27-4607-a90f-774387ea52cf",
   "metadata": {},
   "source": [
    "# Initial Setup"
   ]
  },
  {
   "cell_type": "markdown",
   "id": "228230f1-d56f-4e6d-a23c-57f604af5eb1",
   "metadata": {},
   "source": [
    "### Setting working directory"
   ]
  },
  {
   "cell_type": "code",
   "execution_count": 1,
   "id": "4965ba18-0f91-4c64-9923-347b0316f455",
   "metadata": {},
   "outputs": [],
   "source": [
    "setwd(\"~/02_Corporate Profile/Project Portfolio/Vehicle Insurance Data\")"
   ]
  },
  {
   "cell_type": "markdown",
   "id": "a2255e7d-77e9-45c8-8c5e-e11c235d3137",
   "metadata": {},
   "source": [
    "### Loading all vehicle insurance data"
   ]
  },
  {
   "cell_type": "code",
   "execution_count": 17,
   "id": "9097d3e1-56ba-4465-b341-cf6c1408b4ea",
   "metadata": {},
   "outputs": [],
   "source": [
    "motor_data_2014_2018 = read.csv(\"~/02_Corporate Profile/Project Portfolio/Vehicle Insurance Data/motor_data14-2018.csv\")"
   ]
  },
  {
   "cell_type": "markdown",
   "id": "7f8e8635-d2e4-4af8-b2b2-7117967c85e3",
   "metadata": {},
   "source": [
    "# Initial Data Inspection & Cleaning"
   ]
  },
  {
   "cell_type": "markdown",
   "id": "d8898896-39c8-442d-8012-e61dabe6e628",
   "metadata": {},
   "source": [
    " ### Obtaining initial understanding of the data"
   ]
  },
  {
   "cell_type": "code",
   "execution_count": 18,
   "id": "93afa2d3-aec7-4468-b563-b0733af994cd",
   "metadata": {},
   "outputs": [
    {
     "data": {
      "text/html": [
       "<ol class=list-inline>\n",
       "\t<li>508499</li>\n",
       "\t<li>16</li>\n",
       "</ol>\n"
      ],
      "text/latex": [
       "\\begin{enumerate*}\n",
       "\\item 508499\n",
       "\\item 16\n",
       "\\end{enumerate*}\n"
      ],
      "text/markdown": [
       "1. 508499\n",
       "2. 16\n",
       "\n",
       "\n"
      ],
      "text/plain": [
       "[1] 508499     16"
      ]
     },
     "metadata": {},
     "output_type": "display_data"
    }
   ],
   "source": [
    "# Obtaining the number of rows and columns\n",
    "dim(motor_data_2014_2018)"
   ]
  },
  {
   "cell_type": "code",
   "execution_count": 3,
   "id": "839ad5fd-964d-41b6-9ae6-0762addbf2ed",
   "metadata": {},
   "outputs": [
    {
     "data": {
      "text/html": [
       "<table>\n",
       "<thead><tr><th scope=col>SEX</th><th scope=col>INSR_BEGIN</th><th scope=col>INSR_END</th><th scope=col>EFFECTIVE_YR</th><th scope=col>INSR_TYPE</th><th scope=col>INSURED_VALUE</th><th scope=col>PREMIUM</th><th scope=col>OBJECT_ID</th><th scope=col>PROD_YEAR</th><th scope=col>SEATS_NUM</th><th scope=col>CARRYING_CAPACITY</th><th scope=col>TYPE_VEHICLE</th><th scope=col>CCM_TON</th><th scope=col>MAKE</th><th scope=col>USAGE</th><th scope=col>CLAIM_PAID</th></tr></thead>\n",
       "<tbody>\n",
       "\t<tr><td>0         </td><td>08-AUG-17 </td><td>07-AUG-18 </td><td>08        </td><td>1202      </td><td> 519755.2 </td><td> 5097.83  </td><td>5000029885</td><td>2007      </td><td>4         </td><td>6         </td><td>Pick-up   </td><td>3153      </td><td>NISSAN    </td><td>Own Goods </td><td>NA        </td></tr>\n",
       "\t<tr><td>0         </td><td>08-AUG-16 </td><td>07-AUG-17 </td><td>08        </td><td>1202      </td><td> 519755.2 </td><td> 6556.52  </td><td>5000029885</td><td>2007      </td><td>4         </td><td>6         </td><td>Pick-up   </td><td>3153      </td><td>NISSAN    </td><td>Own Goods </td><td>NA        </td></tr>\n",
       "\t<tr><td>0         </td><td>08-AUG-15 </td><td>07-AUG-16 </td><td>08        </td><td>1202      </td><td> 519755.2 </td><td> 6556.52  </td><td>5000029885</td><td>2007      </td><td>4         </td><td>6         </td><td>Pick-up   </td><td>3153      </td><td>NISSAN    </td><td>Own Goods </td><td>NA        </td></tr>\n",
       "\t<tr><td>0         </td><td>08-AUG-14 </td><td>07-AUG-15 </td><td>08        </td><td>1202      </td><td> 519755.2 </td><td> 5102.83  </td><td>5000029885</td><td>2007      </td><td>4         </td><td>6         </td><td>Pick-up   </td><td>3153      </td><td>NISSAN    </td><td>Own Goods </td><td>NA        </td></tr>\n",
       "\t<tr><td>0         </td><td>08-AUG-17 </td><td>07-AUG-18 </td><td>08        </td><td>1202      </td><td>1400000.0 </td><td>13304.87  </td><td>5000029901</td><td>2010      </td><td>4         </td><td>7         </td><td>Pick-up   </td><td>2494      </td><td>TOYOTA    </td><td>Own Goods </td><td>NA        </td></tr>\n",
       "\t<tr><td>0         </td><td>08-AUG-16 </td><td>07-AUG-17 </td><td>08        </td><td>1202      </td><td>1400000.0 </td><td>16438.15  </td><td>5000029901</td><td>2010      </td><td>4         </td><td>7         </td><td>Pick-up   </td><td>2494      </td><td>TOYOTA    </td><td>Own Goods </td><td>NA        </td></tr>\n",
       "</tbody>\n",
       "</table>\n"
      ],
      "text/latex": [
       "\\begin{tabular}{r|llllllllllllllll}\n",
       " SEX & INSR\\_BEGIN & INSR\\_END & EFFECTIVE\\_YR & INSR\\_TYPE & INSURED\\_VALUE & PREMIUM & OBJECT\\_ID & PROD\\_YEAR & SEATS\\_NUM & CARRYING\\_CAPACITY & TYPE\\_VEHICLE & CCM\\_TON & MAKE & USAGE & CLAIM\\_PAID\\\\\n",
       "\\hline\n",
       "\t 0          & 08-AUG-17  & 07-AUG-18  & 08         & 1202       &  519755.2  &  5097.83   & 5000029885 & 2007       & 4          & 6          & Pick-up    & 3153       & NISSAN     & Own Goods  & NA        \\\\\n",
       "\t 0          & 08-AUG-16  & 07-AUG-17  & 08         & 1202       &  519755.2  &  6556.52   & 5000029885 & 2007       & 4          & 6          & Pick-up    & 3153       & NISSAN     & Own Goods  & NA        \\\\\n",
       "\t 0          & 08-AUG-15  & 07-AUG-16  & 08         & 1202       &  519755.2  &  6556.52   & 5000029885 & 2007       & 4          & 6          & Pick-up    & 3153       & NISSAN     & Own Goods  & NA        \\\\\n",
       "\t 0          & 08-AUG-14  & 07-AUG-15  & 08         & 1202       &  519755.2  &  5102.83   & 5000029885 & 2007       & 4          & 6          & Pick-up    & 3153       & NISSAN     & Own Goods  & NA        \\\\\n",
       "\t 0          & 08-AUG-17  & 07-AUG-18  & 08         & 1202       & 1400000.0  & 13304.87   & 5000029901 & 2010       & 4          & 7          & Pick-up    & 2494       & TOYOTA     & Own Goods  & NA        \\\\\n",
       "\t 0          & 08-AUG-16  & 07-AUG-17  & 08         & 1202       & 1400000.0  & 16438.15   & 5000029901 & 2010       & 4          & 7          & Pick-up    & 2494       & TOYOTA     & Own Goods  & NA        \\\\\n",
       "\\end{tabular}\n"
      ],
      "text/markdown": [
       "\n",
       "| SEX | INSR_BEGIN | INSR_END | EFFECTIVE_YR | INSR_TYPE | INSURED_VALUE | PREMIUM | OBJECT_ID | PROD_YEAR | SEATS_NUM | CARRYING_CAPACITY | TYPE_VEHICLE | CCM_TON | MAKE | USAGE | CLAIM_PAID |\n",
       "|---|---|---|---|---|---|---|---|---|---|---|---|---|---|---|---|\n",
       "| 0          | 08-AUG-17  | 07-AUG-18  | 08         | 1202       |  519755.2  |  5097.83   | 5000029885 | 2007       | 4          | 6          | Pick-up    | 3153       | NISSAN     | Own Goods  | NA         |\n",
       "| 0          | 08-AUG-16  | 07-AUG-17  | 08         | 1202       |  519755.2  |  6556.52   | 5000029885 | 2007       | 4          | 6          | Pick-up    | 3153       | NISSAN     | Own Goods  | NA         |\n",
       "| 0          | 08-AUG-15  | 07-AUG-16  | 08         | 1202       |  519755.2  |  6556.52   | 5000029885 | 2007       | 4          | 6          | Pick-up    | 3153       | NISSAN     | Own Goods  | NA         |\n",
       "| 0          | 08-AUG-14  | 07-AUG-15  | 08         | 1202       |  519755.2  |  5102.83   | 5000029885 | 2007       | 4          | 6          | Pick-up    | 3153       | NISSAN     | Own Goods  | NA         |\n",
       "| 0          | 08-AUG-17  | 07-AUG-18  | 08         | 1202       | 1400000.0  | 13304.87   | 5000029901 | 2010       | 4          | 7          | Pick-up    | 2494       | TOYOTA     | Own Goods  | NA         |\n",
       "| 0          | 08-AUG-16  | 07-AUG-17  | 08         | 1202       | 1400000.0  | 16438.15   | 5000029901 | 2010       | 4          | 7          | Pick-up    | 2494       | TOYOTA     | Own Goods  | NA         |\n",
       "\n"
      ],
      "text/plain": [
       "  SEX INSR_BEGIN INSR_END  EFFECTIVE_YR INSR_TYPE INSURED_VALUE PREMIUM \n",
       "1 0   08-AUG-17  07-AUG-18 08           1202       519755.2      5097.83\n",
       "2 0   08-AUG-16  07-AUG-17 08           1202       519755.2      6556.52\n",
       "3 0   08-AUG-15  07-AUG-16 08           1202       519755.2      6556.52\n",
       "4 0   08-AUG-14  07-AUG-15 08           1202       519755.2      5102.83\n",
       "5 0   08-AUG-17  07-AUG-18 08           1202      1400000.0     13304.87\n",
       "6 0   08-AUG-16  07-AUG-17 08           1202      1400000.0     16438.15\n",
       "  OBJECT_ID  PROD_YEAR SEATS_NUM CARRYING_CAPACITY TYPE_VEHICLE CCM_TON MAKE  \n",
       "1 5000029885 2007      4         6                 Pick-up      3153    NISSAN\n",
       "2 5000029885 2007      4         6                 Pick-up      3153    NISSAN\n",
       "3 5000029885 2007      4         6                 Pick-up      3153    NISSAN\n",
       "4 5000029885 2007      4         6                 Pick-up      3153    NISSAN\n",
       "5 5000029901 2010      4         7                 Pick-up      2494    TOYOTA\n",
       "6 5000029901 2010      4         7                 Pick-up      2494    TOYOTA\n",
       "  USAGE     CLAIM_PAID\n",
       "1 Own Goods NA        \n",
       "2 Own Goods NA        \n",
       "3 Own Goods NA        \n",
       "4 Own Goods NA        \n",
       "5 Own Goods NA        \n",
       "6 Own Goods NA        "
      ]
     },
     "metadata": {},
     "output_type": "display_data"
    }
   ],
   "source": [
    "# Viewing the dataframe to determine any columns that ??????\n",
    "head(motor_data_2014_2018)"
   ]
  },
  {
   "cell_type": "code",
   "execution_count": 19,
   "id": "cbe43e2a-2359-4f48-924e-80bb8b50b5c1",
   "metadata": {},
   "outputs": [
    {
     "data": {
      "text/html": [
       "<dl class=dl-horizontal>\n",
       "\t<dt>SEX</dt>\n",
       "\t\t<dd>0</dd>\n",
       "\t<dt>INSR_BEGIN</dt>\n",
       "\t\t<dd>0</dd>\n",
       "\t<dt>INSR_END</dt>\n",
       "\t\t<dd>0</dd>\n",
       "\t<dt>EFFECTIVE_YR</dt>\n",
       "\t\t<dd>0</dd>\n",
       "\t<dt>INSR_TYPE</dt>\n",
       "\t\t<dd>0</dd>\n",
       "\t<dt>INSURED_VALUE</dt>\n",
       "\t\t<dd>0</dd>\n",
       "\t<dt>PREMIUM</dt>\n",
       "\t\t<dd>13</dd>\n",
       "\t<dt>OBJECT_ID</dt>\n",
       "\t\t<dd>0</dd>\n",
       "\t<dt>PROD_YEAR</dt>\n",
       "\t\t<dd>63</dd>\n",
       "\t<dt>SEATS_NUM</dt>\n",
       "\t\t<dd>95</dd>\n",
       "\t<dt>CARRYING_CAPACITY</dt>\n",
       "\t\t<dd>116834</dd>\n",
       "\t<dt>TYPE_VEHICLE</dt>\n",
       "\t\t<dd>0</dd>\n",
       "\t<dt>CCM_TON</dt>\n",
       "\t\t<dd>6</dd>\n",
       "\t<dt>MAKE</dt>\n",
       "\t\t<dd>5</dd>\n",
       "\t<dt>USAGE</dt>\n",
       "\t\t<dd>0</dd>\n",
       "\t<dt>CLAIM_PAID</dt>\n",
       "\t\t<dd>470727</dd>\n",
       "</dl>\n"
      ],
      "text/latex": [
       "\\begin{description*}\n",
       "\\item[SEX] 0\n",
       "\\item[INSR\\textbackslash{}\\_BEGIN] 0\n",
       "\\item[INSR\\textbackslash{}\\_END] 0\n",
       "\\item[EFFECTIVE\\textbackslash{}\\_YR] 0\n",
       "\\item[INSR\\textbackslash{}\\_TYPE] 0\n",
       "\\item[INSURED\\textbackslash{}\\_VALUE] 0\n",
       "\\item[PREMIUM] 13\n",
       "\\item[OBJECT\\textbackslash{}\\_ID] 0\n",
       "\\item[PROD\\textbackslash{}\\_YEAR] 63\n",
       "\\item[SEATS\\textbackslash{}\\_NUM] 95\n",
       "\\item[CARRYING\\textbackslash{}\\_CAPACITY] 116834\n",
       "\\item[TYPE\\textbackslash{}\\_VEHICLE] 0\n",
       "\\item[CCM\\textbackslash{}\\_TON] 6\n",
       "\\item[MAKE] 5\n",
       "\\item[USAGE] 0\n",
       "\\item[CLAIM\\textbackslash{}\\_PAID] 470727\n",
       "\\end{description*}\n"
      ],
      "text/markdown": [
       "SEX\n",
       ":   0INSR_BEGIN\n",
       ":   0INSR_END\n",
       ":   0EFFECTIVE_YR\n",
       ":   0INSR_TYPE\n",
       ":   0INSURED_VALUE\n",
       ":   0PREMIUM\n",
       ":   13OBJECT_ID\n",
       ":   0PROD_YEAR\n",
       ":   63SEATS_NUM\n",
       ":   95CARRYING_CAPACITY\n",
       ":   116834TYPE_VEHICLE\n",
       ":   0CCM_TON\n",
       ":   6MAKE\n",
       ":   5USAGE\n",
       ":   0CLAIM_PAID\n",
       ":   470727\n",
       "\n"
      ],
      "text/plain": [
       "              SEX        INSR_BEGIN          INSR_END      EFFECTIVE_YR \n",
       "                0                 0                 0                 0 \n",
       "        INSR_TYPE     INSURED_VALUE           PREMIUM         OBJECT_ID \n",
       "                0                 0                13                 0 \n",
       "        PROD_YEAR         SEATS_NUM CARRYING_CAPACITY      TYPE_VEHICLE \n",
       "               63                95            116834                 0 \n",
       "          CCM_TON              MAKE             USAGE        CLAIM_PAID \n",
       "                6                 5                 0            470727 "
      ]
     },
     "metadata": {},
     "output_type": "display_data"
    }
   ],
   "source": [
    "# Determining if there are any missing data points, and in which column\n",
    "sapply(motor_data_2014_2018, function(x) sum(is.na(x)))"
   ]
  },
  {
   "cell_type": "markdown",
   "id": "2864f8d1-9e6c-4a33-b9b9-9d743cb434d2",
   "metadata": {},
   "source": [
    "### Determining (and adjusting where needed) the structure of the data"
   ]
  },
  {
   "cell_type": "code",
   "execution_count": 20,
   "id": "a213a377-9acd-41e5-9b8a-158694463d11",
   "metadata": {},
   "outputs": [
    {
     "name": "stdout",
     "output_type": "stream",
     "text": [
      "'data.frame':\t508499 obs. of  16 variables:\n",
      " $ SEX              : int  0 0 0 0 0 0 0 0 1 1 ...\n",
      " $ INSR_BEGIN       : Factor w/ 1461 levels \"01-APR-15\",\"01-APR-16\",..: 344 343 342 341 344 343 342 341 1144 1143 ...\n",
      " $ INSR_END         : Factor w/ 1691 levels \"01-APR-15\",\"01-APR-16\",..: 345 344 343 342 345 344 343 342 1265 1264 ...\n",
      " $ EFFECTIVE_YR     : Factor w/ 140 levels \"\",\"-1\",\"-2\",\"-6\",..: 21 21 21 21 21 21 21 21 27 27 ...\n",
      " $ INSR_TYPE        : int  1202 1202 1202 1202 1202 1202 1202 1202 1202 1202 ...\n",
      " $ INSURED_VALUE    : num  519755 519755 519755 519755 1400000 ...\n",
      " $ PREMIUM          : num  5098 6557 6557 5103 13305 ...\n",
      " $ OBJECT_ID        : num  5e+09 5e+09 5e+09 5e+09 5e+09 ...\n",
      " $ PROD_YEAR        : int  2007 2007 2007 2007 2010 2010 2010 2010 2012 2012 ...\n",
      " $ SEATS_NUM        : int  4 4 4 4 4 4 4 4 0 0 ...\n",
      " $ CARRYING_CAPACITY: num  6 6 6 6 7 7 7 7 220 220 ...\n",
      " $ TYPE_VEHICLE     : Factor w/ 11 levels \"Automobile\",\"Bus\",..: 4 4 4 4 4 4 4 4 11 11 ...\n",
      " $ CCM_TON          : num  3153 3153 3153 3153 2494 ...\n",
      " $ MAKE             : Factor w/ 746 levels \" BEBIEN TANKER\",..: 475 475 475 475 616 616 616 616 324 324 ...\n",
      " $ USAGE            : Factor w/ 14 levels \"Agricultural Any Farm\",..: 10 10 10 10 10 10 10 10 7 7 ...\n",
      " $ CLAIM_PAID       : num  NA NA NA NA NA ...\n"
     ]
    }
   ],
   "source": [
    "# Viewing the existing structure of the data\n",
    "str(motor_data_2014_2018)"
   ]
  },
  {
   "cell_type": "code",
   "execution_count": 21,
   "id": "3ddc9ff0-2862-437f-8532-d2ed0807e372",
   "metadata": {},
   "outputs": [],
   "source": [
    "# Adjusting the structure of the data\n",
    "motor_data_2014_2018$INSR_BEGIN = as.Date(motor_data_2014_2018$INSR_BEGIN, format = \"%d-%b-%y\")\n",
    "motor_data_2014_2018$INSR_END = as.Date(motor_data_2014_2018$INSR_END, format = \"%d-%b-%y\")\n",
    "motor_data_2014_2018$SEX = as.factor(motor_data_2014_2018$SEX)\n",
    "motor_data_2014_2018$INSR_TYPE = as.factor(motor_data_2014_2018$INSR_TYPE)\n",
    "motor_data_2014_2018$MAKE = as.factor(motor_data_2014_2018$MAKE)\n",
    "motor_data_2014_2018$USAGE = as.factor(motor_data_2014_2018$USAGE)\n",
    "motor_data_2014_2018$TYPE_VEHICLE    = as.factor(motor_data_2014_2018$TYPE_VEHICLE)"
   ]
  },
  {
   "cell_type": "code",
   "execution_count": 22,
   "id": "705b8b54-6200-48e9-bd74-fb4464378d5d",
   "metadata": {},
   "outputs": [
    {
     "name": "stdout",
     "output_type": "stream",
     "text": [
      "'data.frame':\t508499 obs. of  16 variables:\n",
      " $ SEX              : Factor w/ 3 levels \"0\",\"1\",\"2\": 1 1 1 1 1 1 1 1 2 2 ...\n",
      " $ INSR_BEGIN       : Date, format: \"2017-08-08\" \"2016-08-08\" ...\n",
      " $ INSR_END         : Date, format: \"2018-08-07\" \"2017-08-07\" ...\n",
      " $ EFFECTIVE_YR     : Factor w/ 140 levels \"\",\"-1\",\"-2\",\"-6\",..: 21 21 21 21 21 21 21 21 27 27 ...\n",
      " $ INSR_TYPE        : Factor w/ 3 levels \"1201\",\"1202\",..: 2 2 2 2 2 2 2 2 2 2 ...\n",
      " $ INSURED_VALUE    : num  519755 519755 519755 519755 1400000 ...\n",
      " $ PREMIUM          : num  5098 6557 6557 5103 13305 ...\n",
      " $ OBJECT_ID        : num  5e+09 5e+09 5e+09 5e+09 5e+09 ...\n",
      " $ PROD_YEAR        : int  2007 2007 2007 2007 2010 2010 2010 2010 2012 2012 ...\n",
      " $ SEATS_NUM        : int  4 4 4 4 4 4 4 4 0 0 ...\n",
      " $ CARRYING_CAPACITY: num  6 6 6 6 7 7 7 7 220 220 ...\n",
      " $ TYPE_VEHICLE     : Factor w/ 11 levels \"Automobile\",\"Bus\",..: 4 4 4 4 4 4 4 4 11 11 ...\n",
      " $ CCM_TON          : num  3153 3153 3153 3153 2494 ...\n",
      " $ MAKE             : Factor w/ 746 levels \" BEBIEN TANKER\",..: 475 475 475 475 616 616 616 616 324 324 ...\n",
      " $ USAGE            : Factor w/ 14 levels \"Agricultural Any Farm\",..: 10 10 10 10 10 10 10 10 7 7 ...\n",
      " $ CLAIM_PAID       : num  NA NA NA NA NA ...\n"
     ]
    }
   ],
   "source": [
    "# Ensuring the structure of the data is as required\n",
    "str(motor_data_2014_2018)"
   ]
  },
  {
   "cell_type": "markdown",
   "id": "bbfd7569-085b-4fe8-8568-994e6e73c3a5",
   "metadata": {},
   "source": [
    "### Formating column format of the data"
   ]
  },
  {
   "cell_type": "code",
   "execution_count": 23,
   "id": "1aace760-4666-47f0-a569-7da74543112c",
   "metadata": {},
   "outputs": [
    {
     "data": {
      "text/html": [
       "<ol class=list-inline>\n",
       "\t<li>'SEX'</li>\n",
       "\t<li>'INSR_BEGIN'</li>\n",
       "\t<li>'INSR_END'</li>\n",
       "\t<li>'EFFECTIVE_YR'</li>\n",
       "\t<li>'INSR_TYPE'</li>\n",
       "\t<li>'INSURED_VALUE'</li>\n",
       "\t<li>'PREMIUM'</li>\n",
       "\t<li>'OBJECT_ID'</li>\n",
       "\t<li>'PROD_YEAR'</li>\n",
       "\t<li>'SEATS_NUM'</li>\n",
       "\t<li>'CARRYING_CAPACITY'</li>\n",
       "\t<li>'TYPE_VEHICLE'</li>\n",
       "\t<li>'CCM_TON'</li>\n",
       "\t<li>'MAKE'</li>\n",
       "\t<li>'USAGE'</li>\n",
       "\t<li>'CLAIM_PAID'</li>\n",
       "</ol>\n"
      ],
      "text/latex": [
       "\\begin{enumerate*}\n",
       "\\item 'SEX'\n",
       "\\item 'INSR\\_BEGIN'\n",
       "\\item 'INSR\\_END'\n",
       "\\item 'EFFECTIVE\\_YR'\n",
       "\\item 'INSR\\_TYPE'\n",
       "\\item 'INSURED\\_VALUE'\n",
       "\\item 'PREMIUM'\n",
       "\\item 'OBJECT\\_ID'\n",
       "\\item 'PROD\\_YEAR'\n",
       "\\item 'SEATS\\_NUM'\n",
       "\\item 'CARRYING\\_CAPACITY'\n",
       "\\item 'TYPE\\_VEHICLE'\n",
       "\\item 'CCM\\_TON'\n",
       "\\item 'MAKE'\n",
       "\\item 'USAGE'\n",
       "\\item 'CLAIM\\_PAID'\n",
       "\\end{enumerate*}\n"
      ],
      "text/markdown": [
       "1. 'SEX'\n",
       "2. 'INSR_BEGIN'\n",
       "3. 'INSR_END'\n",
       "4. 'EFFECTIVE_YR'\n",
       "5. 'INSR_TYPE'\n",
       "6. 'INSURED_VALUE'\n",
       "7. 'PREMIUM'\n",
       "8. 'OBJECT_ID'\n",
       "9. 'PROD_YEAR'\n",
       "10. 'SEATS_NUM'\n",
       "11. 'CARRYING_CAPACITY'\n",
       "12. 'TYPE_VEHICLE'\n",
       "13. 'CCM_TON'\n",
       "14. 'MAKE'\n",
       "15. 'USAGE'\n",
       "16. 'CLAIM_PAID'\n",
       "\n",
       "\n"
      ],
      "text/plain": [
       " [1] \"SEX\"               \"INSR_BEGIN\"        \"INSR_END\"         \n",
       " [4] \"EFFECTIVE_YR\"      \"INSR_TYPE\"         \"INSURED_VALUE\"    \n",
       " [7] \"PREMIUM\"           \"OBJECT_ID\"         \"PROD_YEAR\"        \n",
       "[10] \"SEATS_NUM\"         \"CARRYING_CAPACITY\" \"TYPE_VEHICLE\"     \n",
       "[13] \"CCM_TON\"           \"MAKE\"              \"USAGE\"            \n",
       "[16] \"CLAIM_PAID\"       "
      ]
     },
     "metadata": {},
     "output_type": "display_data"
    }
   ],
   "source": [
    "### Viewing all columns to identify any that will not be needed\n",
    "colnames(motor_data_2014_2018)"
   ]
  },
  {
   "cell_type": "code",
   "execution_count": 24,
   "id": "09e06bba-4222-4036-8597-e888143ecbeb",
   "metadata": {},
   "outputs": [
    {
     "data": {
      "text/html": [
       "<table>\n",
       "<thead><tr><th scope=col>SEX</th><th scope=col>INSR_BEGIN</th><th scope=col>INSR_END</th><th scope=col>INSR_TYPE</th><th scope=col>INSURED_VALUE</th><th scope=col>PREMIUM</th><th scope=col>OBJECT_ID</th><th scope=col>PROD_YEAR</th><th scope=col>TYPE_VEHICLE</th><th scope=col>MAKE</th><th scope=col>CLAIM_PAID</th></tr></thead>\n",
       "<tbody>\n",
       "\t<tr><td>0         </td><td>2017-08-08</td><td>2018-08-07</td><td>1202      </td><td> 519755.2 </td><td> 5097.83  </td><td>5000029885</td><td>2007      </td><td>Pick-up   </td><td>NISSAN    </td><td>NA        </td></tr>\n",
       "\t<tr><td>0         </td><td>2016-08-08</td><td>2017-08-07</td><td>1202      </td><td> 519755.2 </td><td> 6556.52  </td><td>5000029885</td><td>2007      </td><td>Pick-up   </td><td>NISSAN    </td><td>NA        </td></tr>\n",
       "\t<tr><td>0         </td><td>2015-08-08</td><td>2016-08-07</td><td>1202      </td><td> 519755.2 </td><td> 6556.52  </td><td>5000029885</td><td>2007      </td><td>Pick-up   </td><td>NISSAN    </td><td>NA        </td></tr>\n",
       "\t<tr><td>0         </td><td>2014-08-08</td><td>2015-08-07</td><td>1202      </td><td> 519755.2 </td><td> 5102.83  </td><td>5000029885</td><td>2007      </td><td>Pick-up   </td><td>NISSAN    </td><td>NA        </td></tr>\n",
       "\t<tr><td>0         </td><td>2017-08-08</td><td>2018-08-07</td><td>1202      </td><td>1400000.0 </td><td>13304.87  </td><td>5000029901</td><td>2010      </td><td>Pick-up   </td><td>TOYOTA    </td><td>NA        </td></tr>\n",
       "\t<tr><td>0         </td><td>2016-08-08</td><td>2017-08-07</td><td>1202      </td><td>1400000.0 </td><td>16438.15  </td><td>5000029901</td><td>2010      </td><td>Pick-up   </td><td>TOYOTA    </td><td>NA        </td></tr>\n",
       "</tbody>\n",
       "</table>\n"
      ],
      "text/latex": [
       "\\begin{tabular}{r|lllllllllll}\n",
       " SEX & INSR\\_BEGIN & INSR\\_END & INSR\\_TYPE & INSURED\\_VALUE & PREMIUM & OBJECT\\_ID & PROD\\_YEAR & TYPE\\_VEHICLE & MAKE & CLAIM\\_PAID\\\\\n",
       "\\hline\n",
       "\t 0          & 2017-08-08 & 2018-08-07 & 1202       &  519755.2  &  5097.83   & 5000029885 & 2007       & Pick-up    & NISSAN     & NA        \\\\\n",
       "\t 0          & 2016-08-08 & 2017-08-07 & 1202       &  519755.2  &  6556.52   & 5000029885 & 2007       & Pick-up    & NISSAN     & NA        \\\\\n",
       "\t 0          & 2015-08-08 & 2016-08-07 & 1202       &  519755.2  &  6556.52   & 5000029885 & 2007       & Pick-up    & NISSAN     & NA        \\\\\n",
       "\t 0          & 2014-08-08 & 2015-08-07 & 1202       &  519755.2  &  5102.83   & 5000029885 & 2007       & Pick-up    & NISSAN     & NA        \\\\\n",
       "\t 0          & 2017-08-08 & 2018-08-07 & 1202       & 1400000.0  & 13304.87   & 5000029901 & 2010       & Pick-up    & TOYOTA     & NA        \\\\\n",
       "\t 0          & 2016-08-08 & 2017-08-07 & 1202       & 1400000.0  & 16438.15   & 5000029901 & 2010       & Pick-up    & TOYOTA     & NA        \\\\\n",
       "\\end{tabular}\n"
      ],
      "text/markdown": [
       "\n",
       "| SEX | INSR_BEGIN | INSR_END | INSR_TYPE | INSURED_VALUE | PREMIUM | OBJECT_ID | PROD_YEAR | TYPE_VEHICLE | MAKE | CLAIM_PAID |\n",
       "|---|---|---|---|---|---|---|---|---|---|---|\n",
       "| 0          | 2017-08-08 | 2018-08-07 | 1202       |  519755.2  |  5097.83   | 5000029885 | 2007       | Pick-up    | NISSAN     | NA         |\n",
       "| 0          | 2016-08-08 | 2017-08-07 | 1202       |  519755.2  |  6556.52   | 5000029885 | 2007       | Pick-up    | NISSAN     | NA         |\n",
       "| 0          | 2015-08-08 | 2016-08-07 | 1202       |  519755.2  |  6556.52   | 5000029885 | 2007       | Pick-up    | NISSAN     | NA         |\n",
       "| 0          | 2014-08-08 | 2015-08-07 | 1202       |  519755.2  |  5102.83   | 5000029885 | 2007       | Pick-up    | NISSAN     | NA         |\n",
       "| 0          | 2017-08-08 | 2018-08-07 | 1202       | 1400000.0  | 13304.87   | 5000029901 | 2010       | Pick-up    | TOYOTA     | NA         |\n",
       "| 0          | 2016-08-08 | 2017-08-07 | 1202       | 1400000.0  | 16438.15   | 5000029901 | 2010       | Pick-up    | TOYOTA     | NA         |\n",
       "\n"
      ],
      "text/plain": [
       "  SEX INSR_BEGIN INSR_END   INSR_TYPE INSURED_VALUE PREMIUM  OBJECT_ID \n",
       "1 0   2017-08-08 2018-08-07 1202       519755.2      5097.83 5000029885\n",
       "2 0   2016-08-08 2017-08-07 1202       519755.2      6556.52 5000029885\n",
       "3 0   2015-08-08 2016-08-07 1202       519755.2      6556.52 5000029885\n",
       "4 0   2014-08-08 2015-08-07 1202       519755.2      5102.83 5000029885\n",
       "5 0   2017-08-08 2018-08-07 1202      1400000.0     13304.87 5000029901\n",
       "6 0   2016-08-08 2017-08-07 1202      1400000.0     16438.15 5000029901\n",
       "  PROD_YEAR TYPE_VEHICLE MAKE   CLAIM_PAID\n",
       "1 2007      Pick-up      NISSAN NA        \n",
       "2 2007      Pick-up      NISSAN NA        \n",
       "3 2007      Pick-up      NISSAN NA        \n",
       "4 2007      Pick-up      NISSAN NA        \n",
       "5 2010      Pick-up      TOYOTA NA        \n",
       "6 2010      Pick-up      TOYOTA NA        "
      ]
     },
     "metadata": {},
     "output_type": "display_data"
    }
   ],
   "source": [
    "### Removing columns that will not be needed\n",
    "motor_data_2014_2018 = subset(motor_data_2014_2018, select = -c(EFFECTIVE_YR, CARRYING_CAPACITY, SEATS_NUM, CCM_TON, USAGE))\n",
    "head(motor_data_2014_2018)"
   ]
  },
  {
   "cell_type": "code",
   "execution_count": 25,
   "id": "2dc05c26-bd2b-4e40-b469-89ceaf5715e8",
   "metadata": {},
   "outputs": [],
   "source": [
    "### Renaming columns\n",
    "colnames(motor_data_2014_2018)[colnames(motor_data_2014_2018) == \"OBJECT_ID\"] = \"POLICYHOLDER_ID\""
   ]
  },
  {
   "cell_type": "code",
   "execution_count": 30,
   "id": "2d17420f-f5fd-461e-981b-56a2dd5244ce",
   "metadata": {},
   "outputs": [
    {
     "data": {
      "text/html": [
       "<table>\n",
       "<thead><tr><th scope=col>POLICYHOLDER_ID</th><th scope=col>SEX</th><th scope=col>INSR_BEGIN</th><th scope=col>INSR_END</th><th scope=col>INSR_TYPE</th><th scope=col>INSURED_VALUE</th><th scope=col>PREMIUM</th><th scope=col>PROD_YEAR</th><th scope=col>TYPE_VEHICLE</th><th scope=col>MAKE</th><th scope=col>CLAIM_PAID</th></tr></thead>\n",
       "<tbody>\n",
       "\t<tr><td>5000029885</td><td>0         </td><td>2017-08-08</td><td>2018-08-07</td><td>1202      </td><td> 519755.2 </td><td> 5097.83  </td><td>2007      </td><td>Pick-up   </td><td>NISSAN    </td><td>NA        </td></tr>\n",
       "\t<tr><td>5000029885</td><td>0         </td><td>2016-08-08</td><td>2017-08-07</td><td>1202      </td><td> 519755.2 </td><td> 6556.52  </td><td>2007      </td><td>Pick-up   </td><td>NISSAN    </td><td>NA        </td></tr>\n",
       "\t<tr><td>5000029885</td><td>0         </td><td>2015-08-08</td><td>2016-08-07</td><td>1202      </td><td> 519755.2 </td><td> 6556.52  </td><td>2007      </td><td>Pick-up   </td><td>NISSAN    </td><td>NA        </td></tr>\n",
       "\t<tr><td>5000029885</td><td>0         </td><td>2014-08-08</td><td>2015-08-07</td><td>1202      </td><td> 519755.2 </td><td> 5102.83  </td><td>2007      </td><td>Pick-up   </td><td>NISSAN    </td><td>NA        </td></tr>\n",
       "\t<tr><td>5000029901</td><td>0         </td><td>2017-08-08</td><td>2018-08-07</td><td>1202      </td><td>1400000.0 </td><td>13304.87  </td><td>2010      </td><td>Pick-up   </td><td>TOYOTA    </td><td>NA        </td></tr>\n",
       "\t<tr><td>5000029901</td><td>0         </td><td>2016-08-08</td><td>2017-08-07</td><td>1202      </td><td>1400000.0 </td><td>16438.15  </td><td>2010      </td><td>Pick-up   </td><td>TOYOTA    </td><td>NA        </td></tr>\n",
       "</tbody>\n",
       "</table>\n"
      ],
      "text/latex": [
       "\\begin{tabular}{r|lllllllllll}\n",
       " POLICYHOLDER\\_ID & SEX & INSR\\_BEGIN & INSR\\_END & INSR\\_TYPE & INSURED\\_VALUE & PREMIUM & PROD\\_YEAR & TYPE\\_VEHICLE & MAKE & CLAIM\\_PAID\\\\\n",
       "\\hline\n",
       "\t 5000029885 & 0          & 2017-08-08 & 2018-08-07 & 1202       &  519755.2  &  5097.83   & 2007       & Pick-up    & NISSAN     & NA        \\\\\n",
       "\t 5000029885 & 0          & 2016-08-08 & 2017-08-07 & 1202       &  519755.2  &  6556.52   & 2007       & Pick-up    & NISSAN     & NA        \\\\\n",
       "\t 5000029885 & 0          & 2015-08-08 & 2016-08-07 & 1202       &  519755.2  &  6556.52   & 2007       & Pick-up    & NISSAN     & NA        \\\\\n",
       "\t 5000029885 & 0          & 2014-08-08 & 2015-08-07 & 1202       &  519755.2  &  5102.83   & 2007       & Pick-up    & NISSAN     & NA        \\\\\n",
       "\t 5000029901 & 0          & 2017-08-08 & 2018-08-07 & 1202       & 1400000.0  & 13304.87   & 2010       & Pick-up    & TOYOTA     & NA        \\\\\n",
       "\t 5000029901 & 0          & 2016-08-08 & 2017-08-07 & 1202       & 1400000.0  & 16438.15   & 2010       & Pick-up    & TOYOTA     & NA        \\\\\n",
       "\\end{tabular}\n"
      ],
      "text/markdown": [
       "\n",
       "| POLICYHOLDER_ID | SEX | INSR_BEGIN | INSR_END | INSR_TYPE | INSURED_VALUE | PREMIUM | PROD_YEAR | TYPE_VEHICLE | MAKE | CLAIM_PAID |\n",
       "|---|---|---|---|---|---|---|---|---|---|---|\n",
       "| 5000029885 | 0          | 2017-08-08 | 2018-08-07 | 1202       |  519755.2  |  5097.83   | 2007       | Pick-up    | NISSAN     | NA         |\n",
       "| 5000029885 | 0          | 2016-08-08 | 2017-08-07 | 1202       |  519755.2  |  6556.52   | 2007       | Pick-up    | NISSAN     | NA         |\n",
       "| 5000029885 | 0          | 2015-08-08 | 2016-08-07 | 1202       |  519755.2  |  6556.52   | 2007       | Pick-up    | NISSAN     | NA         |\n",
       "| 5000029885 | 0          | 2014-08-08 | 2015-08-07 | 1202       |  519755.2  |  5102.83   | 2007       | Pick-up    | NISSAN     | NA         |\n",
       "| 5000029901 | 0          | 2017-08-08 | 2018-08-07 | 1202       | 1400000.0  | 13304.87   | 2010       | Pick-up    | TOYOTA     | NA         |\n",
       "| 5000029901 | 0          | 2016-08-08 | 2017-08-07 | 1202       | 1400000.0  | 16438.15   | 2010       | Pick-up    | TOYOTA     | NA         |\n",
       "\n"
      ],
      "text/plain": [
       "  POLICYHOLDER_ID SEX INSR_BEGIN INSR_END   INSR_TYPE INSURED_VALUE PREMIUM \n",
       "1 5000029885      0   2017-08-08 2018-08-07 1202       519755.2      5097.83\n",
       "2 5000029885      0   2016-08-08 2017-08-07 1202       519755.2      6556.52\n",
       "3 5000029885      0   2015-08-08 2016-08-07 1202       519755.2      6556.52\n",
       "4 5000029885      0   2014-08-08 2015-08-07 1202       519755.2      5102.83\n",
       "5 5000029901      0   2017-08-08 2018-08-07 1202      1400000.0     13304.87\n",
       "6 5000029901      0   2016-08-08 2017-08-07 1202      1400000.0     16438.15\n",
       "  PROD_YEAR TYPE_VEHICLE MAKE   CLAIM_PAID\n",
       "1 2007      Pick-up      NISSAN NA        \n",
       "2 2007      Pick-up      NISSAN NA        \n",
       "3 2007      Pick-up      NISSAN NA        \n",
       "4 2007      Pick-up      NISSAN NA        \n",
       "5 2010      Pick-up      TOYOTA NA        \n",
       "6 2010      Pick-up      TOYOTA NA        "
      ]
     },
     "metadata": {},
     "output_type": "display_data"
    }
   ],
   "source": [
    "### Rearanging the the columns into a sensible order\n",
    "motor_data_2014_2018 = motor_data_2014_2018[, c(\n",
    "  \"POLICYHOLDER_ID\", \"SEX\", \"INSR_BEGIN\", \"INSR_END\", \"INSR_TYPE\", \n",
    "  \"INSURED_VALUE\", \"PREMIUM\", \"PROD_YEAR\", \"TYPE_VEHICLE\", \n",
    "  \"MAKE\", \"CLAIM_PAID\"\n",
    ")]\n",
    "head(motor_data_2014_2018)\n",
    "\n",
    "    # Column order:\n",
    "        # Policyholder Information: Information about the policyholder.\n",
    "          # POLICYHOLDER_ID\n",
    "          # SEX\n",
    "        # Insurance Details: Dates and types of insurance.\n",
    "          # INSR_BEGIN\n",
    "          # INSR_END\n",
    "          # INSR_TYPE\n",
    "          # INSURED_VALUE\n",
    "          # PREMIUM\n",
    "        # Vehicle Details: Information about the insured vehicle.\n",
    "          # PROD_YEAR\n",
    "          # TYPE_VEHICLE\n",
    "          # MAKE\n",
    "        # Claims Information: Information about claims.\n",
    "          # CLAIM_PAID"
   ]
  },
  {
   "cell_type": "markdown",
   "id": "93c5d4b3-280c-4c00-ba28-ca7377eaed1d",
   "metadata": {},
   "source": [
    "### Creating 2018 insurance dataframe"
   ]
  },
  {
   "cell_type": "code",
   "execution_count": 31,
   "id": "30928983-de1a-4696-8b68-ba6bffc93d92",
   "metadata": {},
   "outputs": [
    {
     "data": {
      "text/html": [
       "<table>\n",
       "<thead><tr><th scope=col>POLICYHOLDER_ID</th><th scope=col>SEX</th><th scope=col>INSR_BEGIN</th><th scope=col>INSR_END</th><th scope=col>INSR_TYPE</th><th scope=col>INSURED_VALUE</th><th scope=col>PREMIUM</th><th scope=col>PROD_YEAR</th><th scope=col>TYPE_VEHICLE</th><th scope=col>MAKE</th><th scope=col>CLAIM_PAID</th></tr></thead>\n",
       "<tbody>\n",
       "\t<tr><td>5000029885</td><td>0         </td><td>2017-08-08</td><td>2018-08-07</td><td>1202      </td><td> 519755.2 </td><td> 5097.83  </td><td>2007      </td><td>Pick-up   </td><td>NISSAN    </td><td>NA        </td></tr>\n",
       "\t<tr><td>5000029901</td><td>0         </td><td>2017-08-08</td><td>2018-08-07</td><td>1202      </td><td>1400000.0 </td><td>13304.87  </td><td>2010      </td><td>Pick-up   </td><td>TOYOTA    </td><td>NA        </td></tr>\n",
       "\t<tr><td>5000030358</td><td>1         </td><td>2017-11-24</td><td>2018-11-23</td><td>1202      </td><td>3400000.0 </td><td>26804.72  </td><td>2012      </td><td>Truck     </td><td>IVECO     </td><td>NA        </td></tr>\n",
       "\t<tr><td>5000031274</td><td>1         </td><td>2017-05-09</td><td>2018-05-08</td><td>1202      </td><td>      0.0 </td><td> 1949.30  </td><td>2000      </td><td>Bus       </td><td>TOYOTA    </td><td>NA        </td></tr>\n",
       "\t<tr><td>5000031488</td><td>1         </td><td>2017-11-28</td><td>2018-11-27</td><td>1202      </td><td>2550000.0 </td><td>23784.79  </td><td>2010      </td><td>Truck     </td><td>IVECO     </td><td>NA        </td></tr>\n",
       "\t<tr><td>5000031489</td><td>1         </td><td>2017-11-28</td><td>2018-11-27</td><td>1202      </td><td>2550000.0 </td><td>23784.79  </td><td>2010      </td><td>Truck     </td><td>IVECO     </td><td>NA        </td></tr>\n",
       "</tbody>\n",
       "</table>\n"
      ],
      "text/latex": [
       "\\begin{tabular}{r|lllllllllll}\n",
       " POLICYHOLDER\\_ID & SEX & INSR\\_BEGIN & INSR\\_END & INSR\\_TYPE & INSURED\\_VALUE & PREMIUM & PROD\\_YEAR & TYPE\\_VEHICLE & MAKE & CLAIM\\_PAID\\\\\n",
       "\\hline\n",
       "\t 5000029885 & 0          & 2017-08-08 & 2018-08-07 & 1202       &  519755.2  &  5097.83   & 2007       & Pick-up    & NISSAN     & NA        \\\\\n",
       "\t 5000029901 & 0          & 2017-08-08 & 2018-08-07 & 1202       & 1400000.0  & 13304.87   & 2010       & Pick-up    & TOYOTA     & NA        \\\\\n",
       "\t 5000030358 & 1          & 2017-11-24 & 2018-11-23 & 1202       & 3400000.0  & 26804.72   & 2012       & Truck      & IVECO      & NA        \\\\\n",
       "\t 5000031274 & 1          & 2017-05-09 & 2018-05-08 & 1202       &       0.0  &  1949.30   & 2000       & Bus        & TOYOTA     & NA        \\\\\n",
       "\t 5000031488 & 1          & 2017-11-28 & 2018-11-27 & 1202       & 2550000.0  & 23784.79   & 2010       & Truck      & IVECO      & NA        \\\\\n",
       "\t 5000031489 & 1          & 2017-11-28 & 2018-11-27 & 1202       & 2550000.0  & 23784.79   & 2010       & Truck      & IVECO      & NA        \\\\\n",
       "\\end{tabular}\n"
      ],
      "text/markdown": [
       "\n",
       "| POLICYHOLDER_ID | SEX | INSR_BEGIN | INSR_END | INSR_TYPE | INSURED_VALUE | PREMIUM | PROD_YEAR | TYPE_VEHICLE | MAKE | CLAIM_PAID |\n",
       "|---|---|---|---|---|---|---|---|---|---|---|\n",
       "| 5000029885 | 0          | 2017-08-08 | 2018-08-07 | 1202       |  519755.2  |  5097.83   | 2007       | Pick-up    | NISSAN     | NA         |\n",
       "| 5000029901 | 0          | 2017-08-08 | 2018-08-07 | 1202       | 1400000.0  | 13304.87   | 2010       | Pick-up    | TOYOTA     | NA         |\n",
       "| 5000030358 | 1          | 2017-11-24 | 2018-11-23 | 1202       | 3400000.0  | 26804.72   | 2012       | Truck      | IVECO      | NA         |\n",
       "| 5000031274 | 1          | 2017-05-09 | 2018-05-08 | 1202       |       0.0  |  1949.30   | 2000       | Bus        | TOYOTA     | NA         |\n",
       "| 5000031488 | 1          | 2017-11-28 | 2018-11-27 | 1202       | 2550000.0  | 23784.79   | 2010       | Truck      | IVECO      | NA         |\n",
       "| 5000031489 | 1          | 2017-11-28 | 2018-11-27 | 1202       | 2550000.0  | 23784.79   | 2010       | Truck      | IVECO      | NA         |\n",
       "\n"
      ],
      "text/plain": [
       "  POLICYHOLDER_ID SEX INSR_BEGIN INSR_END   INSR_TYPE INSURED_VALUE PREMIUM \n",
       "1 5000029885      0   2017-08-08 2018-08-07 1202       519755.2      5097.83\n",
       "2 5000029901      0   2017-08-08 2018-08-07 1202      1400000.0     13304.87\n",
       "3 5000030358      1   2017-11-24 2018-11-23 1202      3400000.0     26804.72\n",
       "4 5000031274      1   2017-05-09 2018-05-08 1202            0.0      1949.30\n",
       "5 5000031488      1   2017-11-28 2018-11-27 1202      2550000.0     23784.79\n",
       "6 5000031489      1   2017-11-28 2018-11-27 1202      2550000.0     23784.79\n",
       "  PROD_YEAR TYPE_VEHICLE MAKE   CLAIM_PAID\n",
       "1 2007      Pick-up      NISSAN NA        \n",
       "2 2010      Pick-up      TOYOTA NA        \n",
       "3 2012      Truck        IVECO  NA        \n",
       "4 2000      Bus          TOYOTA NA        \n",
       "5 2010      Truck        IVECO  NA        \n",
       "6 2010      Truck        IVECO  NA        "
      ]
     },
     "metadata": {},
     "output_type": "display_data"
    }
   ],
   "source": [
    "# Creating the dataframe\n",
    "insurance_data = motor_data_2014_2018[format(motor_data_2014_2018$INSR_END, \"%Y\") == \"2018\", ]\n",
    "\n",
    "# Resetting the row names to ascending order\n",
    "rownames(insurance_data) = NULL\n",
    "head(insurance_data)"
   ]
  },
  {
   "cell_type": "markdown",
   "id": "7f29b0e5-54d0-4cc1-86c6-8bd75fc11770",
   "metadata": {},
   "source": [
    "#  Cleaning Variables"
   ]
  },
  {
   "cell_type": "markdown",
   "id": "270a7213-ac2f-4c7f-8d30-9a0fe6735b20",
   "metadata": {},
   "source": [
    "### Variable:  POLICYHOLDER_ID "
   ]
  },
  {
   "cell_type": "code",
   "execution_count": 32,
   "id": "5dc83651-63a5-4d88-a3dd-643486d69c5b",
   "metadata": {},
   "outputs": [
    {
     "data": {
      "text/html": [
       "0"
      ],
      "text/latex": [
       "0"
      ],
      "text/markdown": [
       "0"
      ],
      "text/plain": [
       "[1] 0"
      ]
     },
     "metadata": {},
     "output_type": "display_data"
    }
   ],
   "source": [
    "### Number of missing values for variable\n",
    "sum(is.na(insurance_data$POLICYHOLDER_ID))"
   ]
  },
  {
   "cell_type": "markdown",
   "id": "09c45e10-8f76-426e-8162-b918f42cb008",
   "metadata": {},
   "source": [
    "### Variable:  SEX"
   ]
  },
  {
   "cell_type": "code",
   "execution_count": 33,
   "id": "a1c714a4-4b8f-48c1-acaf-92893283aea4",
   "metadata": {},
   "outputs": [
    {
     "data": {
      "text/html": [
       "0"
      ],
      "text/latex": [
       "0"
      ],
      "text/markdown": [
       "0"
      ],
      "text/plain": [
       "[1] 0"
      ]
     },
     "metadata": {},
     "output_type": "display_data"
    }
   ],
   "source": [
    "### Number of missing values for variable\n",
    "sum(is.na(insurance_data$SEX))"
   ]
  },
  {
   "cell_type": "code",
   "execution_count": 34,
   "id": "400b9f40-235f-41cd-bd95-6e2ae8acd491",
   "metadata": {},
   "outputs": [
    {
     "data": {
      "text/html": [
       "<dl class=dl-horizontal>\n",
       "\t<dt>0</dt>\n",
       "\t\t<dd>64633</dd>\n",
       "\t<dt>1</dt>\n",
       "\t\t<dd>62695</dd>\n",
       "\t<dt>2</dt>\n",
       "\t\t<dd>11817</dd>\n",
       "</dl>\n"
      ],
      "text/latex": [
       "\\begin{description*}\n",
       "\\item[0] 64633\n",
       "\\item[1] 62695\n",
       "\\item[2] 11817\n",
       "\\end{description*}\n"
      ],
      "text/markdown": [
       "0\n",
       ":   646331\n",
       ":   626952\n",
       ":   11817\n",
       "\n"
      ],
      "text/plain": [
       "    0     1     2 \n",
       "64633 62695 11817 "
      ]
     },
     "metadata": {},
     "output_type": "display_data"
    }
   ],
   "source": [
    "### Obtaining summary of the variable\n",
    "summary(insurance_data$SEX)"
   ]
  },
  {
   "cell_type": "code",
   "execution_count": 38,
   "id": "8d4ef472-b7f5-40b9-9030-9c06fd30cbfd",
   "metadata": {},
   "outputs": [
    {
     "data": {
      "text/html": [
       "<dl class=dl-horizontal>\n",
       "\t<dt>Male</dt>\n",
       "\t\t<dd>64633</dd>\n",
       "\t<dt>Female</dt>\n",
       "\t\t<dd>62695</dd>\n",
       "\t<dt>Unknown</dt>\n",
       "\t\t<dd>11817</dd>\n",
       "</dl>\n"
      ],
      "text/latex": [
       "\\begin{description*}\n",
       "\\item[Male] 64633\n",
       "\\item[Female] 62695\n",
       "\\item[Unknown] 11817\n",
       "\\end{description*}\n"
      ],
      "text/markdown": [
       "Male\n",
       ":   64633Female\n",
       ":   62695Unknown\n",
       ":   11817\n",
       "\n"
      ],
      "text/plain": [
       "   Male  Female Unknown \n",
       "  64633   62695   11817 "
      ]
     },
     "metadata": {},
     "output_type": "display_data"
    }
   ],
   "source": [
    "### Changing the levels of the variable to be more descriptive\n",
    "levels(insurance_data$SEX) = c(\"Male\", \"Female\", \"Unknown\")\n",
    "\n",
    "### Checking summary of the variable to ensure level change was done correctly\n",
    "summary(insurance_data$SEX)\n",
    "  # Male  Female  Unknown \n",
    "  # 64633   62695   11817 "
   ]
  },
  {
   "cell_type": "markdown",
   "id": "b554ddb9-1f6d-4e5e-9d13-423d2e370f2d",
   "metadata": {},
   "source": [
    "### Variable:  INSR_BEGIN"
   ]
  },
  {
   "cell_type": "code",
   "execution_count": 40,
   "id": "65a2f758-74d6-433b-944c-95c14f8c796e",
   "metadata": {},
   "outputs": [
    {
     "data": {
      "text/html": [
       "0"
      ],
      "text/latex": [
       "0"
      ],
      "text/markdown": [
       "0"
      ],
      "text/plain": [
       "[1] 0"
      ]
     },
     "metadata": {},
     "output_type": "display_data"
    }
   ],
   "source": [
    "### Number of missing values for variable\n",
    "sum(is.na(insurance_data$INSR_BEGIN))"
   ]
  },
  {
   "cell_type": "markdown",
   "id": "85186039-51de-498c-ae23-f2245407d8ba",
   "metadata": {},
   "source": [
    "### Variable:  INSR_END"
   ]
  },
  {
   "cell_type": "code",
   "execution_count": 42,
   "id": "10b8efb1-a4e4-4e7a-a20c-a8f9431f46d3",
   "metadata": {},
   "outputs": [
    {
     "data": {
      "text/html": [
       "0"
      ],
      "text/latex": [
       "0"
      ],
      "text/markdown": [
       "0"
      ],
      "text/plain": [
       "[1] 0"
      ]
     },
     "metadata": {},
     "output_type": "display_data"
    }
   ],
   "source": [
    "### Number of missing values for variable\n",
    "sum(is.na(insurance_data$INSR_END))"
   ]
  },
  {
   "cell_type": "markdown",
   "id": "97736eee-2fb6-4f42-8748-013115f027f4",
   "metadata": {},
   "source": [
    "### Variable:  INSR_TYPE"
   ]
  },
  {
   "cell_type": "code",
   "execution_count": 44,
   "id": "23fd1b32-2ef1-4681-93d6-474d494c35b5",
   "metadata": {},
   "outputs": [
    {
     "data": {
      "text/html": [
       "0"
      ],
      "text/latex": [
       "0"
      ],
      "text/markdown": [
       "0"
      ],
      "text/plain": [
       "[1] 0"
      ]
     },
     "metadata": {},
     "output_type": "display_data"
    }
   ],
   "source": [
    "### Number of missing values for variable\n",
    "sum(is.na(insurance_data$INSR_TYPE))"
   ]
  },
  {
   "cell_type": "code",
   "execution_count": 45,
   "id": "18c4cc4e-97ea-4207-9b34-27d50b300f33",
   "metadata": {},
   "outputs": [
    {
     "data": {
      "text/html": [
       "<dl class=dl-horizontal>\n",
       "\t<dt>1201</dt>\n",
       "\t\t<dd>32448</dd>\n",
       "\t<dt>1202</dt>\n",
       "\t\t<dd>106644</dd>\n",
       "\t<dt>1204</dt>\n",
       "\t\t<dd>53</dd>\n",
       "</dl>\n"
      ],
      "text/latex": [
       "\\begin{description*}\n",
       "\\item[1201] 32448\n",
       "\\item[1202] 106644\n",
       "\\item[1204] 53\n",
       "\\end{description*}\n"
      ],
      "text/markdown": [
       "1201\n",
       ":   324481202\n",
       ":   1066441204\n",
       ":   53\n",
       "\n"
      ],
      "text/plain": [
       "  1201   1202   1204 \n",
       " 32448 106644     53 "
      ]
     },
     "metadata": {},
     "output_type": "display_data"
    }
   ],
   "source": [
    "### Obtaining summary of the variable\n",
    "summary(insurance_data$INSR_TYPE)"
   ]
  },
  {
   "cell_type": "code",
   "execution_count": 46,
   "id": "4b0b8b5e-cc33-4135-98df-9e1c145bc8e9",
   "metadata": {},
   "outputs": [
    {
     "data": {
      "text/html": [
       "<dl class=dl-horizontal>\n",
       "\t<dt>Comprehensive</dt>\n",
       "\t\t<dd>32448</dd>\n",
       "\t<dt>Third Party with Fire and Theft</dt>\n",
       "\t\t<dd>106644</dd>\n",
       "\t<dt>Third Party Only</dt>\n",
       "\t\t<dd>53</dd>\n",
       "</dl>\n"
      ],
      "text/latex": [
       "\\begin{description*}\n",
       "\\item[Comprehensive] 32448\n",
       "\\item[Third Party with Fire and Theft] 106644\n",
       "\\item[Third Party Only] 53\n",
       "\\end{description*}\n"
      ],
      "text/markdown": [
       "Comprehensive\n",
       ":   32448Third Party with Fire and Theft\n",
       ":   106644Third Party Only\n",
       ":   53\n",
       "\n"
      ],
      "text/plain": [
       "                  Comprehensive Third Party with Fire and Theft \n",
       "                          32448                          106644 \n",
       "               Third Party Only \n",
       "                             53 "
      ]
     },
     "metadata": {},
     "output_type": "display_data"
    }
   ],
   "source": [
    "### Changing the levels of the variable to be more descriptive\n",
    "levels(insurance_data$INSR_TYPE) = c(\"Comprehensive\", \"Third Party with Fire and Theft\", \"Third Party Only\")\n",
    "\n",
    "### Checking summary of the variable to ensure level change was done correctly\n",
    "summary(insurance_data$INSR_TYPE)"
   ]
  },
  {
   "cell_type": "markdown",
   "id": "7572fb73-686e-418a-8146-376b7528f7fb",
   "metadata": {},
   "source": [
    "### Variable:  INSURED_VALUE"
   ]
  },
  {
   "cell_type": "code",
   "execution_count": 47,
   "id": "d68c52aa-6dd6-45ba-a85f-055813aec7ab",
   "metadata": {},
   "outputs": [
    {
     "data": {
      "text/html": [
       "0"
      ],
      "text/latex": [
       "0"
      ],
      "text/markdown": [
       "0"
      ],
      "text/plain": [
       "[1] 0"
      ]
     },
     "metadata": {},
     "output_type": "display_data"
    }
   ],
   "source": [
    "### Number of missing values for variable\n",
    "sum(is.na(insurance_data$INSURED_VALUE))"
   ]
  },
  {
   "cell_type": "markdown",
   "id": "3a534f2c-f59d-4baf-abd3-3e3a924abd76",
   "metadata": {},
   "source": [
    "### Variable:  PREMIUM"
   ]
  },
  {
   "cell_type": "code",
   "execution_count": 49,
   "id": "8304928e-ac1a-4ded-b102-b7af19daeeb6",
   "metadata": {},
   "outputs": [
    {
     "data": {
      "text/html": [
       "1"
      ],
      "text/latex": [
       "1"
      ],
      "text/markdown": [
       "1"
      ],
      "text/plain": [
       "[1] 1"
      ]
     },
     "metadata": {},
     "output_type": "display_data"
    }
   ],
   "source": [
    "### Number of missing values for variable\n",
    "sum(is.na(insurance_data$PREMIUM))"
   ]
  },
  {
   "cell_type": "code",
   "execution_count": 50,
   "id": "387aa9f7-db76-49f9-9db7-d25f46ade78e",
   "metadata": {},
   "outputs": [
    {
     "data": {
      "text/html": [
       "1"
      ],
      "text/latex": [
       "1"
      ],
      "text/markdown": [
       "1"
      ],
      "text/plain": [
       "[1] 1"
      ]
     },
     "metadata": {},
     "output_type": "display_data"
    }
   ],
   "source": [
    "# Identify POLICYHOLDER_IDs with missing values for the variable\n",
    "policyholders_with_na_premium = unique(insurance_data$POLICYHOLDER_ID[is.na(insurance_data$PREMIUM)])\n",
    "\n",
    "### Count number of policholders that will be removed from the dataset for record purposes\n",
    "length(policyholders_with_na_premium)"
   ]
  },
  {
   "cell_type": "code",
   "execution_count": 51,
   "id": "4efa4bab-034b-4fa9-917c-70cf2e8b0d94",
   "metadata": {},
   "outputs": [
    {
     "data": {
      "text/html": [
       "0"
      ],
      "text/latex": [
       "0"
      ],
      "text/markdown": [
       "0"
      ],
      "text/plain": [
       "[1] 0"
      ]
     },
     "metadata": {},
     "output_type": "display_data"
    }
   ],
   "source": [
    "# Remove POLICYHOLDER_IDs which contain missing PREMIUM data\n",
    "insurance_data = insurance_data[!insurance_data$POLICYHOLDER_ID %in% policyholders_with_na_premium, ]\n",
    "\n",
    "# Verify no missing values for the variable\n",
    "sum(is.na(insurance_data$PREMIUM))"
   ]
  },
  {
   "cell_type": "markdown",
   "id": "4f95a44a-2a53-4728-a1f5-eddda2758980",
   "metadata": {},
   "source": [
    "### Variable:  PROD_YEAR"
   ]
  },
  {
   "cell_type": "code",
   "execution_count": 52,
   "id": "b644d700-c988-4724-bbce-e935b5193f03",
   "metadata": {},
   "outputs": [
    {
     "data": {
      "text/html": [
       "10"
      ],
      "text/latex": [
       "10"
      ],
      "text/markdown": [
       "10"
      ],
      "text/plain": [
       "[1] 10"
      ]
     },
     "metadata": {},
     "output_type": "display_data"
    }
   ],
   "source": [
    "### Number of missing values for variable\n",
    "sum(is.na(insurance_data$PROD_YEAR))"
   ]
  },
  {
   "cell_type": "code",
   "execution_count": 53,
   "id": "f019219a-760d-4cab-85ae-5db7de1e468a",
   "metadata": {},
   "outputs": [
    {
     "data": {
      "text/html": [
       "10"
      ],
      "text/latex": [
       "10"
      ],
      "text/markdown": [
       "10"
      ],
      "text/plain": [
       "[1] 10"
      ]
     },
     "metadata": {},
     "output_type": "display_data"
    }
   ],
   "source": [
    "### Identify POLICYHOLDER_IDs with missing values for the variable\n",
    "policyholders_with_na_PROD_YEAR = unique(insurance_data$POLICYHOLDER_ID[is.na(insurance_data$PROD_YEAR)])\n",
    "\n",
    "### Count number of policholders that will be removed from the dataset for record purposes\n",
    "length(policyholders_with_na_PROD_YEAR)"
   ]
  },
  {
   "cell_type": "code",
   "execution_count": 54,
   "id": "c023c436-8593-4794-9094-943ccfdc331d",
   "metadata": {},
   "outputs": [
    {
     "data": {
      "text/html": [
       "0"
      ],
      "text/latex": [
       "0"
      ],
      "text/markdown": [
       "0"
      ],
      "text/plain": [
       "[1] 0"
      ]
     },
     "metadata": {},
     "output_type": "display_data"
    }
   ],
   "source": [
    "### Remove POLICYHOLDER_IDs which contain missing PREMIUM data\n",
    "insurance_data = insurance_data[!insurance_data$POLICYHOLDER_ID %in% policyholders_with_na_PROD_YEAR, ]\n",
    "\n",
    "### Verify no missing values for the variable\n",
    "sum(is.na(insurance_data$PROD_YEAR))"
   ]
  },
  {
   "cell_type": "markdown",
   "id": "e90b8655-9647-4b48-b408-37bc20d19c36",
   "metadata": {},
   "source": [
    "### Variable:  TYPE_VEHICLE"
   ]
  },
  {
   "cell_type": "code",
   "execution_count": 55,
   "id": "08372b09-4f64-450e-bab7-6635274ab80e",
   "metadata": {},
   "outputs": [
    {
     "data": {
      "text/html": [
       "0"
      ],
      "text/latex": [
       "0"
      ],
      "text/markdown": [
       "0"
      ],
      "text/plain": [
       "[1] 0"
      ]
     },
     "metadata": {},
     "output_type": "display_data"
    }
   ],
   "source": [
    "### Number of missing values for variable\n",
    "sum(is.na(insurance_data$TYPE_VEHICLE))"
   ]
  },
  {
   "cell_type": "markdown",
   "id": "3f24942b-be72-466d-8e36-077cc6b6cacc",
   "metadata": {},
   "source": [
    "### Variable:  MAKE"
   ]
  },
  {
   "cell_type": "code",
   "execution_count": 56,
   "id": "77e93247-b5ee-4262-ae17-d6f6e96ee98a",
   "metadata": {},
   "outputs": [
    {
     "data": {
      "text/html": [
       "2"
      ],
      "text/latex": [
       "2"
      ],
      "text/markdown": [
       "2"
      ],
      "text/plain": [
       "[1] 2"
      ]
     },
     "metadata": {},
     "output_type": "display_data"
    }
   ],
   "source": [
    "### Number of missing values for variable\n",
    "sum(is.na(insurance_data$MAKE))"
   ]
  },
  {
   "cell_type": "code",
   "execution_count": 57,
   "id": "96717b38-5283-4452-a0a1-128df113007b",
   "metadata": {},
   "outputs": [
    {
     "data": {
      "text/html": [
       "2"
      ],
      "text/latex": [
       "2"
      ],
      "text/markdown": [
       "2"
      ],
      "text/plain": [
       "[1] 2"
      ]
     },
     "metadata": {},
     "output_type": "display_data"
    }
   ],
   "source": [
    "### Identify POLICYHOLDER_IDs with missing values for the variable\n",
    "policyholders_with_na_MAKE = unique(insurance_data$POLICYHOLDER_ID[is.na(insurance_data$MAKE)])\n",
    "\n",
    "### Count number of policholders that will be removed from the dataset for record purposes\n",
    "length(policyholders_with_na_MAKE)"
   ]
  },
  {
   "cell_type": "code",
   "execution_count": 58,
   "id": "ce07b4ac-db8a-48b6-a2e3-3bc034ec5bf2",
   "metadata": {},
   "outputs": [
    {
     "data": {
      "text/html": [
       "0"
      ],
      "text/latex": [
       "0"
      ],
      "text/markdown": [
       "0"
      ],
      "text/plain": [
       "[1] 0"
      ]
     },
     "metadata": {},
     "output_type": "display_data"
    }
   ],
   "source": [
    "### Remove POLICYHOLDER_IDs which contain missing PREMIUM data\n",
    "insurance_data = insurance_data[!insurance_data$POLICYHOLDER_ID %in% policyholders_with_na_MAKE, ]\n",
    "\n",
    "### Verify no missing values for the variable\n",
    "sum(is.na(insurance_data$PROD_YEAR))"
   ]
  },
  {
   "cell_type": "markdown",
   "id": "8da10766-65aa-43a4-8dd1-5843d069cd23",
   "metadata": {},
   "source": [
    "### Variable:  USAGE"
   ]
  },
  {
   "cell_type": "code",
   "execution_count": 59,
   "id": "f4232f25-6217-41b7-99a0-c3b3f3d63fff",
   "metadata": {},
   "outputs": [
    {
     "data": {
      "text/html": [
       "0"
      ],
      "text/latex": [
       "0"
      ],
      "text/markdown": [
       "0"
      ],
      "text/plain": [
       "[1] 0"
      ]
     },
     "metadata": {},
     "output_type": "display_data"
    }
   ],
   "source": [
    "### Number of missing values for variable\n",
    "sum(is.na(insurance_data$USAGE))"
   ]
  },
  {
   "cell_type": "markdown",
   "id": "e50bb182-34ff-4508-a941-909ad5b65918",
   "metadata": {},
   "source": [
    "### Variable:  CLAIM_PAID"
   ]
  },
  {
   "cell_type": "code",
   "execution_count": 61,
   "id": "9d49bf2a-d059-4f0a-be1a-fe03fa23a9e0",
   "metadata": {},
   "outputs": [
    {
     "data": {
      "text/html": [
       "129546"
      ],
      "text/latex": [
       "129546"
      ],
      "text/markdown": [
       "129546"
      ],
      "text/plain": [
       "[1] 129546"
      ]
     },
     "metadata": {},
     "output_type": "display_data"
    }
   ],
   "source": [
    "### Number of missing values for variable\n",
    "sum(is.na(insurance_data$CLAIM_PAID))"
   ]
  },
  {
   "cell_type": "markdown",
   "id": "abdffc84-b62d-482e-be0e-43edf24f5dcb",
   "metadata": {},
   "source": [
    "Upon inspection, all 0 values have been captured as na.  We will assume that there are no missing claims data and simply change the na's to 0.  \n"
   ]
  },
  {
   "cell_type": "code",
   "execution_count": 62,
   "id": "ed485444-f302-4cb6-8ca5-c6df3c62e97d",
   "metadata": {},
   "outputs": [
    {
     "data": {
      "text/html": [
       "0"
      ],
      "text/latex": [
       "0"
      ],
      "text/markdown": [
       "0"
      ],
      "text/plain": [
       "[1] 0"
      ]
     },
     "metadata": {},
     "output_type": "display_data"
    }
   ],
   "source": [
    "### Assigning 0 to claims_paid NA values\n",
    "insurance_data$CLAIM_PAID[is.na(insurance_data$CLAIM_PAID)] = 0\n",
    "\n",
    "### Verify no missing values for the variable\n",
    "sum(is.na(insurance_data$CLAIM_PAID))"
   ]
  },
  {
   "cell_type": "markdown",
   "id": "1de87e73-647d-4abc-b690-79ccb271aff0",
   "metadata": {},
   "source": [
    "#  EDA on Variables"
   ]
  },
  {
   "cell_type": "markdown",
   "id": "75cf7f82-2e7b-4276-9109-235c50dbe5da",
   "metadata": {},
   "source": [
    "### What is the distribution of policyholders by gender in the insurance dataset?"
   ]
  },
  {
   "cell_type": "code",
   "execution_count": 63,
   "id": "aa01689c-6776-43af-ab42-7d08f4f78959",
   "metadata": {},
   "outputs": [
    {
     "data": {
      "image/png": "[encoded data removed]",
      "text/plain": [
       "Plot with title \"Distribution of Policyholders by Sex\""
      ]
     },
     "metadata": {},
     "output_type": "display_data"
    }
   ],
   "source": [
    "### Frequency table of policyholder gender characteristics\n",
    "sex_distribution = table(insurance_data$SEX)\n",
    "\n",
    "# Creating a bar plot to show the gender characteristics of policyholders\n",
    "sex_distribution_bp = barplot(sex_distribution, \n",
    "                               main = \"Distribution of Policyholders by Sex\", \n",
    "                                xlab = \"Sex\", \n",
    "                                ylab = \"Number of Policyholders\",\n",
    "                                col = \"skyblue\",\n",
    "                                ylim = c(0, max(sex_distribution) * 1.1))\n",
    "\n",
    "# Adding text labels centered on the bars\n",
    "text(x = sex_distribution_bp, \n",
    "     y = sex_distribution+2, \n",
    "     label = sex_distribution, \n",
    "     pos = 3, cex = 1, col = \"black\")"
   ]
  },
  {
   "cell_type": "code",
   "execution_count": 68,
   "id": "8a4e3293-4e0e-4fe5-b961-8846d51d1cac",
   "metadata": {},
   "outputs": [
    {
     "data": {
      "image/png": "[encoded data removed]",
      "text/plain": [
       "Plot with title \"Histogram of table(insurance_data$INSR_END - insurance_data$INSR_BEGIN)\""
      ]
     },
     "metadata": {},
     "output_type": "display_data"
    }
   ],
   "source": [
    "hist(table(insurance_data$INSR_END-insurance_data$INSR_BEGIN),\n",
    "    breaks=10)"
   ]
  },
  {
   "cell_type": "markdown",
   "id": "1b2097f2-581c-4eb4-802a-8cc9d635eb44",
   "metadata": {},
   "source": [
    "### How does the distribution of insurance types vary by gender among policyholders?"
   ]
  },
  {
   "cell_type": "code",
   "execution_count": 84,
   "id": "8fdc000b-a762-48c5-9f2a-9ebae41e88ce",
   "metadata": {},
   "outputs": [
    {
     "data": {
      "image/png": "[encoded data removed]",
      "text/plain": [
       "Plot with title \"Distribution of INSR_TYPE by SEX\""
      ]
     },
     "metadata": {},
     "output_type": "display_data"
    }
   ],
   "source": [
    "# Distribution of INSR_TYPE relative to SEX\n",
    "INSR_TYPE_vs_SEX = table(insurance_data$INSR_TYPE, insurance_data$SEX)\n",
    "\n",
    "# Adjust the plotting area to make space for the legend\n",
    "par(mar = c(8, 5, 4, 2) + 0.1, oma = c(0, 0, 0, 0), xpd = TRUE)\n",
    "\n",
    "# Create the bar plot for the contingency table\n",
    "INSR_TYPE_vs_SEX_bp = barplot(INSR_TYPE_vs_SEX, beside = TRUE, \n",
    "                              main = \"Distribution of INSR_TYPE by SEX\", \n",
    "                              xlab = \"Insurance Type\", \n",
    "                              ylab = \"Count\", \n",
    "                              col = c(\"skyblue\", \"pink\", \"lightgreen\"))\n",
    "\n",
    "# Adding text labels centered on the bars\n",
    "text(x = INSR_TYPE_vs_SEX_bp, \n",
    "     y = INSR_TYPE_vs_SEX+2, \n",
    "     label = INSR_TYPE_vs_SEX, \n",
    "     pos = 3, cex = 1, col = \"black\")\n",
    "\n",
    "abline(h=0)\n",
    "\n",
    "# Add the legend outside the plot area\n",
    "legend(\"topright\", inset = c(-0.07, 0), legend = rownames(INSR_TYPE_vs_SEX), fill = c(\"skyblue\", \"pink\", \"lightgreen\"), xpd = TRUE)\n",
    "\n"
   ]
  },
  {
   "cell_type": "markdown",
   "id": "d54b94fa-4dcb-4fcb-8476-00d53051da94",
   "metadata": {},
   "source": [
    "### Summary statistics for PREMIUM"
   ]
  },
  {
   "cell_type": "code",
   "execution_count": 73,
   "id": "e49d885a-985b-4978-8f46-ab0e62e2e57d",
   "metadata": {},
   "outputs": [
    {
     "data": {
      "text/html": [
       "0"
      ],
      "text/latex": [
       "0"
      ],
      "text/markdown": [
       "0"
      ],
      "text/plain": [
       "[1] 0"
      ]
     },
     "metadata": {},
     "output_type": "display_data"
    },
    {
     "data": {
      "text/html": [
       "542942.15"
      ],
      "text/latex": [
       "542942.15"
      ],
      "text/markdown": [
       "542942.15"
      ],
      "text/plain": [
       "[1] 542942.2"
      ]
     },
     "metadata": {},
     "output_type": "display_data"
    },
    {
     "data": {
      "text/html": [
       "8364.78875"
      ],
      "text/latex": [
       "8364.78875"
      ],
      "text/markdown": [
       "8364.78875"
      ],
      "text/plain": [
       "[1] 8364.789"
      ]
     },
     "metadata": {},
     "output_type": "display_data"
    },
    {
     "data": {
      "text/html": [
       "3412.3"
      ],
      "text/latex": [
       "3412.3"
      ],
      "text/markdown": [
       "3412.3"
      ],
      "text/plain": [
       "[1] 3412.3"
      ]
     },
     "metadata": {},
     "output_type": "display_data"
    },
    {
     "data": {
      "text/html": [
       "11927.0451829958"
      ],
      "text/latex": [
       "11927.0451829958"
      ],
      "text/markdown": [
       "11927.0451829958"
      ],
      "text/plain": [
       "[1] 11927.05"
      ]
     },
     "metadata": {},
     "output_type": "display_data"
    }
   ],
   "source": [
    "print(min(insurance_data$PREMIUM)\n",
    "max(insurance_data$PREMIUM)\n",
    "\n",
    "mean(insurance_data$PREMIUM)\n",
    "median(insurance_data$PREMIUM)\n",
    "\n",
    "sd(insurance_data$PREMIUM)"
   ]
  },
  {
   "cell_type": "code",
   "execution_count": null,
   "id": "8d3d97ad-4f9f-416e-b9f2-2a2fa0adf714",
   "metadata": {},
   "outputs": [],
   "source": []
  },
  {
   "cell_type": "markdown",
   "id": "4a9ba046-cafe-4952-a965-3a239ab932c9",
   "metadata": {},
   "source": [
    "### Are there any correlations between PREMIUM, INSURED_VALUE and PROD_YEAR?"
   ]
  },
  {
   "cell_type": "code",
   "execution_count": 74,
   "id": "a510215f-d975-4b91-8e14-b746d29d3380",
   "metadata": {},
   "outputs": [
    {
     "data": {
      "text/html": [
       "<table>\n",
       "<thead><tr><th></th><th scope=col>insurance_data.PREMIUM</th><th scope=col>insurance_data.INSURED_VALUE</th><th scope=col>insurance_data.PROD_YEAR</th></tr></thead>\n",
       "<tbody>\n",
       "\t<tr><th scope=row>insurance_data.PREMIUM</th><td>1.0000000</td><td>0.7544155</td><td>0.2166609</td></tr>\n",
       "\t<tr><th scope=row>insurance_data.INSURED_VALUE</th><td>0.7544155</td><td>1.0000000</td><td>0.2481529</td></tr>\n",
       "\t<tr><th scope=row>insurance_data.PROD_YEAR</th><td>0.2166609</td><td>0.2481529</td><td>1.0000000</td></tr>\n",
       "</tbody>\n",
       "</table>\n"
      ],
      "text/latex": [
       "\\begin{tabular}{r|lll}\n",
       "  & insurance\\_data.PREMIUM & insurance\\_data.INSURED\\_VALUE & insurance\\_data.PROD\\_YEAR\\\\\n",
       "\\hline\n",
       "\tinsurance\\_data.PREMIUM & 1.0000000 & 0.7544155 & 0.2166609\\\\\n",
       "\tinsurance\\_data.INSURED\\_VALUE & 0.7544155 & 1.0000000 & 0.2481529\\\\\n",
       "\tinsurance\\_data.PROD\\_YEAR & 0.2166609 & 0.2481529 & 1.0000000\\\\\n",
       "\\end{tabular}\n"
      ],
      "text/markdown": [
       "\n",
       "| <!--/--> | insurance_data.PREMIUM | insurance_data.INSURED_VALUE | insurance_data.PROD_YEAR |\n",
       "|---|---|---|---|\n",
       "| insurance_data.PREMIUM | 1.0000000 | 0.7544155 | 0.2166609 |\n",
       "| insurance_data.INSURED_VALUE | 0.7544155 | 1.0000000 | 0.2481529 |\n",
       "| insurance_data.PROD_YEAR | 0.2166609 | 0.2481529 | 1.0000000 |\n",
       "\n"
      ],
      "text/plain": [
       "                             insurance_data.PREMIUM\n",
       "insurance_data.PREMIUM       1.0000000             \n",
       "insurance_data.INSURED_VALUE 0.7544155             \n",
       "insurance_data.PROD_YEAR     0.2166609             \n",
       "                             insurance_data.INSURED_VALUE\n",
       "insurance_data.PREMIUM       0.7544155                   \n",
       "insurance_data.INSURED_VALUE 1.0000000                   \n",
       "insurance_data.PROD_YEAR     0.2481529                   \n",
       "                             insurance_data.PROD_YEAR\n",
       "insurance_data.PREMIUM       0.2166609               \n",
       "insurance_data.INSURED_VALUE 0.2481529               \n",
       "insurance_data.PROD_YEAR     1.0000000               "
      ]
     },
     "metadata": {},
     "output_type": "display_data"
    }
   ],
   "source": [
    "# Creating a dataframe to use for correlation calculations\n",
    "correlation_df = data.frame(insurance_data$PREMIUM, \n",
    "                            insurance_data$INSURED_VALUE, \n",
    "                            insurance_data$PROD_YEAR)\n",
    "\n",
    "# Calculating correlations between variables\n",
    "corr_matrix = cor(correlation_df)\n",
    "corr_matrix"
   ]
  },
  {
   "cell_type": "code",
   "execution_count": null,
   "id": "53c19b85-ed2c-453b-bc6d-8a5fef4d8515",
   "metadata": {},
   "outputs": [],
   "source": []
  }
 ],
 "metadata": {
  "kernelspec": {
   "display_name": "R",
   "language": "R",
   "name": "ir"
  },
  "language_info": {
   "codemirror_mode": "r",
   "file_extension": ".r",
   "mimetype": "text/x-r-source",
   "name": "R",
   "pygments_lexer": "r",
   "version": "3.6.1"
  }
 },
 "nbformat": 4,
 "nbformat_minor": 5
}
